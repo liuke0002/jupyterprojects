{
 "cells": [
  {
   "cell_type": "code",
   "execution_count": 1,
   "metadata": {},
   "outputs": [
    {
     "name": "stderr",
     "output_type": "stream",
     "text": [
      "Traceback (most recent call last):\n",
      "  File \"src/gevent/_abstract_linkable.py\", line 134, in gevent.__abstract_linkable.AbstractLinkable._notify_links\n",
      "greenlet.error: cannot switch to a different thread\n",
      "2019-06-14T16:37:44Z (<built-in method switch of greenlet.greenlet object at 0x000002C54DAB5198>, <gevent._event.Event object at 0x000002C5542ABC48>) failed with error\n",
      "\n"
     ]
    },
    {
     "data": {
      "text/plain": [
       "True"
      ]
     },
     "execution_count": 1,
     "metadata": {},
     "output_type": "execute_result"
    },
    {
     "name": "stderr",
     "output_type": "stream",
     "text": [
      "D:\\ProgramFiles\\Anaconda3\\lib\\site-packages\\gevent\\hub.py:154: UserWarning: libuv only supports millisecond timer resolution; all times less will be set to 1 ms\n",
      "  with loop.timer(seconds, ref=ref) as t:\n"
     ]
    }
   ],
   "source": [
    "import socket\n",
    "import re\n",
    "import gevent\n",
    "from gevent import monkey\n",
    "monkey.patch_all()"
   ]
  },
  {
   "cell_type": "code",
   "execution_count": 2,
   "metadata": {},
   "outputs": [
    {
     "name": "stdout",
     "output_type": "stream",
     "text": [
      "The history saving thread hit an unexpected error (This operation would block forever\n",
      "\tHub: <Hub '' at 0x2c553f9ca58 default pending=0 ref=0 thread_ident=0x39d8>\n",
      "\tHandles:\n",
      "[HandleState(handle=<cdata 'struct uv_handle_s *' 0x000002C54C3CD8E8>, type=b'check', watcher=<loop at 0x2c54daa6748 default pending=0 ref=0>, ref=0, active=1, closing=0),\n",
      " HandleState(handle=<cdata 'struct uv_handle_s *' 0x000002C54C362FC8>, type=b'timer', watcher=<loop at 0x2c54daa6748 default pending=0 ref=0>, ref=0, active=1, closing=0),\n",
      " HandleState(handle=<cdata 'struct uv_handle_s *' 0x000002C54C3CD998>, type=b'prepare', watcher=<loop at 0x2c54daa6748 default pending=0 ref=0>, ref=0, active=1, closing=0),\n",
      " HandleState(handle=<cdata 'struct uv_handle_s *' 0x000002C54C3CDBA8>, type=b'check', watcher=<loop at 0x2c54daa6748 default pending=0 ref=0>, ref=1, active=0, closing=0)]).History will not be written to the database.\n"
     ]
    }
   ],
   "source": [
    "def service_client(new_socket):\n",
    "    request=new_socket.recv(1024).decode(\"utf-8\")\n",
    "    \n",
    "    request_lines=request.splitlines()\n",
    "    \n",
    "    file_name=\"\"\n",
    "    print(request_lines[0])\n",
    "    ret=re.match(r\"[^/]+(/[^ ]*)\",request_lines[0])\n",
    "    if ret:\n",
    "        file_name=ret.group(1)\n",
    "        if file_name==\"/\":\n",
    "            file_name=\"/index.html\"\n",
    "    try:\n",
    "        f=open(\"./html\"+file_name,\"rb\")\n",
    "    except:\n",
    "        response=\"HTTP/1.1 404 NOT FOUND\\r\\n\"\n",
    "        response+=\"\\r\\n\"\n",
    "        response+=\"file not found\"\n",
    "        new_socket.send(response.encode(\"utf-8\"))\n",
    "    else:\n",
    "        html_content=f.read()\n",
    "        f.close()\n",
    "        response=\"HTTP/1.1 200 OK\\r\\n\"\n",
    "        response+=\"\\r\\n\"\n",
    "        new_socket.send(response.encode(\"utf-8\"))\n",
    "        new_socket.send(html_content)\n",
    "    new_socket.close()"
   ]
  },
  {
   "cell_type": "code",
   "execution_count": null,
   "metadata": {},
   "outputs": [],
   "source": [
    "def main():\n",
    "    #创建套接字\n",
    "    tcp_server_socket=socket.socket(socket.AF_INET,socket.SOCK_STREAM)\n",
    "    tcp_server_socket.setsockopt(socket.SOL_SOCKET,socket.SO_REUSEADDR,1)\n",
    "    #绑定\n",
    "    tcp_server_socket.bind((\"\",7890))\n",
    "    #变为监听套接字\n",
    "    tcp_server_socket.listen(128)\n",
    "    \n",
    "    while True:\n",
    "        #等待新客户端的链接\n",
    "        new_socket,client_addr=tcp_server_socket.accept()\n",
    "        gevent.spawn(service_client,new_socket)\n",
    "    \n",
    "    tcp_server_socket.close()"
   ]
  },
  {
   "cell_type": "code",
   "execution_count": null,
   "metadata": {},
   "outputs": [],
   "source": [
    "if __name__=='__main__':\n",
    "    main()"
   ]
  }
 ],
 "metadata": {
  "kernelspec": {
   "display_name": "Python 3",
   "language": "python",
   "name": "python3"
  },
  "language_info": {
   "codemirror_mode": {
    "name": "ipython",
    "version": 3
   },
   "file_extension": ".py",
   "mimetype": "text/x-python",
   "name": "python",
   "nbconvert_exporter": "python",
   "pygments_lexer": "ipython3",
   "version": "3.7.3"
  }
 },
 "nbformat": 4,
 "nbformat_minor": 2
}
