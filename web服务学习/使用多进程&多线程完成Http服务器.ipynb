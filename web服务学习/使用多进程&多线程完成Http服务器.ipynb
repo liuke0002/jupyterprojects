{
 "cells": [
  {
   "cell_type": "code",
   "execution_count": 1,
   "metadata": {},
   "outputs": [],
   "source": [
    "import socket\n",
    "import re\n",
    "import multiprocessing\n",
    "import threading"
   ]
  },
  {
   "cell_type": "code",
   "execution_count": 2,
   "metadata": {},
   "outputs": [],
   "source": [
    "def service_client(new_socket):\n",
    "    request=new_socket.recv(1024).decode(\"utf-8\")\n",
    "    \n",
    "    request_lines=request.splitlines()\n",
    "    \n",
    "    file_name=\"\"\n",
    "    print(request_lines[0])\n",
    "    ret=re.match(r\"[^/]+(/[^ ]*)\",request_lines[0])\n",
    "    if ret:\n",
    "        file_name=ret.group(1)\n",
    "        if file_name==\"/\":\n",
    "            file_name=\"/index.html\"\n",
    "    try:\n",
    "        f=open(\"./html\"+file_name,\"rb\")\n",
    "    except:\n",
    "        response=\"HTTP/1.1 404 NOT FOUND\\r\\n\"\n",
    "        response+=\"\\r\\n\"\n",
    "        response+=\"file not found\"\n",
    "        new_socket.send(response.encode(\"utf-8\"))\n",
    "    else:\n",
    "        html_content=f.read()\n",
    "        f.close()\n",
    "        response=\"HTTP/1.1 200 OK\\r\\n\"\n",
    "        response+=\"\\r\\n\"\n",
    "        new_socket.send(response.encode(\"utf-8\"))\n",
    "        new_socket.send(html_content)\n",
    "    new_socket.close()\n",
    "    \n",
    "    "
   ]
  },
  {
   "cell_type": "code",
   "execution_count": 3,
   "metadata": {},
   "outputs": [],
   "source": [
    "def main():\n",
    "    #创建套接字\n",
    "    tcp_server_socket=socket.socket(socket.AF_INET,socket.SOCK_STREAM)\n",
    "    tcp_server_socket.setsockopt(socket.SOL_SOCKET,socket.SO_REUSEADDR,1)\n",
    "    #绑定\n",
    "    tcp_server_socket.bind((\"\",7890))\n",
    "    #变为监听套接字\n",
    "    tcp_server_socket.listen(128)\n",
    "    \n",
    "    while True:\n",
    "        #等待新客户端的链接\n",
    "        new_socket,client_addr=tcp_server_socket.accept()\n",
    "        #为这个客户端服务\n",
    "#         p=multiprocessing.Process(target=service_client,args=(new_socket,))\n",
    "#         p.start()\n",
    "#         new_socket.close()\n",
    "        t=threading.Thread(target=service_client,args=(new_socket,))\n",
    "        t.start()\n",
    "    \n",
    "    tcp_server_socket.close()\n",
    "        \n",
    "    "
   ]
  },
  {
   "cell_type": "code",
   "execution_count": null,
   "metadata": {},
   "outputs": [
    {
     "name": "stdout",
     "output_type": "stream",
     "text": [
      "GET / HTTP/1.1\n",
      "GET /classic.css HTTP/1.1\n",
      "GET /images/qt-logo.png HTTP/1.1\n",
      "GET /images/trolltech-logo.png HTTP/1.1\n",
      "GET /classic.css HTTP/1.1\n",
      "GET / HTTP/1.1\n",
      "GET /classic.css HTTP/1.1\n",
      "GET /images/qt-logo.png HTTP/1.1\n",
      "GET /images/trolltech-logo.png HTTP/1.1\n"
     ]
    }
   ],
   "source": [
    "if __name__=='__main__':\n",
    "    main()"
   ]
  },
  {
   "cell_type": "code",
   "execution_count": null,
   "metadata": {},
   "outputs": [],
   "source": []
  }
 ],
 "metadata": {
  "kernelspec": {
   "display_name": "Python 3",
   "language": "python",
   "name": "python3"
  },
  "language_info": {
   "codemirror_mode": {
    "name": "ipython",
    "version": 3
   },
   "file_extension": ".py",
   "mimetype": "text/x-python",
   "name": "python",
   "nbconvert_exporter": "python",
   "pygments_lexer": "ipython3",
   "version": "3.7.3"
  }
 },
 "nbformat": 4,
 "nbformat_minor": 2
}
