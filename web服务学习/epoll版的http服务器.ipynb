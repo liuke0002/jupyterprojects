{
 "cells": [
  {
   "cell_type": "code",
   "execution_count": 1,
   "metadata": {},
   "outputs": [],
   "source": [
    "import socket\n",
    "import select"
   ]
  },
  {
   "cell_type": "code",
   "execution_count": 3,
   "metadata": {},
   "outputs": [],
   "source": [
    "def service_client(new_socket,request):\n",
    "    file_name=\"\"\n",
    "    re\n",
    "    print(request_lines[0])\n",
    "    ret=re.match(r\"[^/]+(/[^ ]*)\",request_lines[0])\n",
    "    if ret:\n",
    "        file_name=ret.group(1)\n",
    "        if file_name==\"/\":\n",
    "            file_name=\"/index.html\"\n",
    "    try:\n",
    "        f=open(\"./html\"+file_name,\"rb\")\n",
    "    except:\n",
    "        response=\"HTTP/1.1 404 NOT FOUND\\r\\n\"\n",
    "        response+=\"\\r\\n\"\n",
    "        response+=\"file not found\"\n",
    "        new_socket.send(response.encode(\"utf-8\"))\n",
    "    else:\n",
    "        html_content=f.read()\n",
    "        f.close()\n",
    "        response_body=html_content\n",
    "        response_header=\"HTTP/1.1 200 OK\\r\\n\"\n",
    "        response_header+=\"Content-Length:%d\\r\\n\" % len(response_body)\n",
    "        response+=\"\\r\\n\"\n",
    "        response=response_header.encode(\"utf-8\")+response_body\n",
    "        new_socket.send(response\n",
    "        new_socket.send(html_content)\n",
    "    \n",
    "# 发完消息后不断开    new_socket.close()"
   ]
  },
  {
   "cell_type": "code",
   "execution_count": null,
   "metadata": {},
   "outputs": [],
   "source": [
    "def main():\n",
    "    #创建套接字\n",
    "    tcp_server_socket=socket.socket(socket.AF_INET,socket.SOCK_STREAM)\n",
    "    #端口可变\n",
    "    tcp_server_socket.setsockopt(socket.SOL_SOCKET,socket.SO_REUSEADDR)\n",
    "    \n",
    "    #绑定\n",
    "    tcp_server_socket.bind((\"\",7890))\n",
    "    #变为监听套接字\n",
    "    tcp_server_socket.listen(128)\n",
    "    tcp_server_socket.setblocking(False)\n",
    "    \n",
    "    #创建一个epoll对象\n",
    "    epl=select.epoll()\n",
    "    #h将监听套接字对应的fd注册到epoll中\n",
    "    epl.register(tcp_server_socket.fileno(),select.EPOLLIN)\n",
    "    \n",
    "    \n",
    "    client_socket_list=list()\n",
    "    fd_event_dict={}\n",
    "    while True:\n",
    "        fd_event_list=epl.poll()  #默认会堵塞，直到OS监测到数据到来 通过事件通知方式 告诉这个程序，此时才会解堵塞\n",
    "        \n",
    "        #[(fd,event)],套接字对应的文件描述符，这个文件描述符到底是什么事件 例如 可以调用recv接收等\n",
    "        for fd,event in fd_event_list:\n",
    "            #等待新的客户端到来\n",
    "            if fd==tcp_server_socket.fileno():\n",
    "                new_socket,client_addr=tcp_server_socket.accept()\n",
    "                epl.register(new_socket.fileno,select.EPOLLIN)\n",
    "                fd_event_dict[new_socket.fileno]=new_socket\n",
    "            elif event==select.EPOLLIN:\n",
    "                #判断已经链接的客户端是否有数据发送过来\n",
    "                recv_data=fd_event_dict[fd].recv(1024).decode(\"utf-8\")\n",
    "                if recv_data:\n",
    "                    service_client(fd_event_dict[fd],recv_data)\n",
    "                else:\n",
    "                    fd_event_dict[fd].close()\n",
    "                    epl.unregister(fd)\n",
    "                    del fd_event_dict[fd]\n",
    "    \n",
    "    tcp_server_socket.close()"
   ]
  },
  {
   "cell_type": "code",
   "execution_count": null,
   "metadata": {},
   "outputs": [],
   "source": [
    "if __name__=='__main__':\n",
    "    main()"
   ]
  }
 ],
 "metadata": {
  "kernelspec": {
   "display_name": "Python 3",
   "language": "python",
   "name": "python3"
  },
  "language_info": {
   "codemirror_mode": {
    "name": "ipython",
    "version": 3
   },
   "file_extension": ".py",
   "mimetype": "text/x-python",
   "name": "python",
   "nbconvert_exporter": "python",
   "pygments_lexer": "ipython3",
   "version": "3.7.3"
  }
 },
 "nbformat": 4,
 "nbformat_minor": 2
}
