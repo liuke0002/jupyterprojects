{
 "cells": [
  {
   "cell_type": "code",
   "execution_count": 2,
   "metadata": {},
   "outputs": [],
   "source": [
    "import socket"
   ]
  },
  {
   "cell_type": "code",
   "execution_count": 3,
   "metadata": {},
   "outputs": [],
   "source": [
    "def service_client(new_socket,request):\n",
    "    file_name=\"\"\n",
    "    re\n",
    "    print(request_lines[0])\n",
    "    ret=re.match(r\"[^/]+(/[^ ]*)\",request_lines[0])\n",
    "    if ret:\n",
    "        file_name=ret.group(1)\n",
    "        if file_name==\"/\":\n",
    "            file_name=\"/index.html\"\n",
    "    try:\n",
    "        f=open(\"./html\"+file_name,\"rb\")\n",
    "    except:\n",
    "        response=\"HTTP/1.1 404 NOT FOUND\\r\\n\"\n",
    "        response+=\"\\r\\n\"\n",
    "        response+=\"file not found\"\n",
    "        new_socket.send(response.encode(\"utf-8\"))\n",
    "    else:\n",
    "        html_content=f.read()\n",
    "        f.close()\n",
    "        response_body=html_content\n",
    "        response_header=\"HTTP/1.1 200 OK\\r\\n\"\n",
    "        response_header+=\"Content-Length:%d\\r\\n\" % len(response_body)\n",
    "        response+=\"\\r\\n\"\n",
    "        response=response_header.encode(\"utf-8\")+response_body\n",
    "        new_socket.send(response\n",
    "        new_socket.send(html_content)\n",
    "    \n",
    "# 发完消息后不断开    new_socket.close()"
   ]
  },
  {
   "cell_type": "code",
   "execution_count": null,
   "metadata": {},
   "outputs": [],
   "source": [
    "def main():\n",
    "    #创建套接字\n",
    "    tcp_server_socket=socket.socket(socket.AF_INET,socket.SOCK_STREAM)\n",
    "    #端口可变\n",
    "    tcp_server_socket.setsockopt(socket.SOL_SOCKET,socket.SO_REUSEADDR)\n",
    "    \n",
    "    #绑定\n",
    "    tcp_server_socket.bind((\"\",7890))\n",
    "    #变为监听套接字\n",
    "    tcp_server_socket.listen(128)\n",
    "    tcp_server_socket.setblocking(False)\n",
    "    \n",
    "    client_socket_list=list()\n",
    "    while True:\n",
    "        try:\n",
    "            new_socket,client_addr=tcp_server_socket.accept()\n",
    "        except Exception as ret:\n",
    "            pass\n",
    "        else:\n",
    "            new_socket.setblocking(False)\n",
    "            client_socket_list.append(new_socket)\n",
    "        for client_socket in client_socket_list:\n",
    "            try:\n",
    "                recv_data=client_socket.recv(1024).decode(\"utf-8\")\n",
    "            except Exception as ret:\n",
    "                pass\n",
    "            else:\n",
    "                if recv_data:\n",
    "                    service_client(new_socket,recv_data)\n",
    "                else:\n",
    "                    new_socket.close()\n",
    "                    client_socket_list.remove(new_socket)\n",
    "        \n",
    "        \n",
    "    \n",
    "    tcp_server_socket.close()"
   ]
  },
  {
   "cell_type": "code",
   "execution_count": null,
   "metadata": {},
   "outputs": [],
   "source": [
    "if __name__=='__main__':\n",
    "    main()"
   ]
  }
 ],
 "metadata": {
  "kernelspec": {
   "display_name": "Python 3",
   "language": "python",
   "name": "python3"
  },
  "language_info": {
   "codemirror_mode": {
    "name": "ipython",
    "version": 3
   },
   "file_extension": ".py",
   "mimetype": "text/x-python",
   "name": "python",
   "nbconvert_exporter": "python",
   "pygments_lexer": "ipython3",
   "version": "3.7.3"
  }
 },
 "nbformat": 4,
 "nbformat_minor": 2
}
