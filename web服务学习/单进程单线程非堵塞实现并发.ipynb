{
 "cells": [
  {
   "cell_type": "code",
   "execution_count": 1,
   "metadata": {},
   "outputs": [],
   "source": [
    "import socket"
   ]
  },
  {
   "cell_type": "code",
   "execution_count": 2,
   "metadata": {},
   "outputs": [],
   "source": [
    "tcp_server_socket=socket.socket(socket.AF_INET,socket.SOCK_STREAM)\n",
    "tcp_server_socket.bind((\"\",7890))\n",
    "tcp_server_socket.listen(128)\n",
    "tcp_server_socket.setblocking(False)\n",
    "client_socket_list=list()"
   ]
  },
  {
   "cell_type": "code",
   "execution_count": null,
   "metadata": {},
   "outputs": [],
   "source": [
    "while True:\n",
    "    try:\n",
    "        new_socket,new_addr=tcp_server_socket.accept()\n",
    "    except Exception as ret:\n",
    "        print(\"--没有新的客户端到来--\")\n",
    "    else:\n",
    "        print(\"只要没有产生异常，那么也就意味着，来了一个新客户端\")\n",
    "        new_socket.setblocking(False)\n",
    "        client_socket_list.append(new_socket)\n",
    "    for client_socket in client_socket_list:\n",
    "        try:\n",
    "            recv_data=client_socket.recv(1024)\n",
    "        except Exception as ret:\n",
    "            print(\"--这个客户端没有发送过来数据--\")\n",
    "        else:\n",
    "            if recv_data:\n",
    "                print(\"--客户端发送过来了数据--\")\n",
    "            else:\n",
    "                client_socket_list.remove(client_socket)\n",
    "                client_socket.close()\n",
    "                print(\"--客户端已经关闭--\")"
   ]
  }
 ],
 "metadata": {
  "kernelspec": {
   "display_name": "Python 3",
   "language": "python",
   "name": "python3"
  },
  "language_info": {
   "codemirror_mode": {
    "name": "ipython",
    "version": 3
   },
   "file_extension": ".py",
   "mimetype": "text/x-python",
   "name": "python",
   "nbconvert_exporter": "python",
   "pygments_lexer": "ipython3",
   "version": "3.7.3"
  }
 },
 "nbformat": 4,
 "nbformat_minor": 2
}
