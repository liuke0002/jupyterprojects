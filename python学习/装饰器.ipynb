{
 "cells": [
  {
   "cell_type": "code",
   "execution_count": 3,
   "metadata": {},
   "outputs": [],
   "source": [
    "def set_func(func):\n",
    "    def call_func():\n",
    "        print(\"这是权限验证\")\n",
    "        func()\n",
    "    return call_func"
   ]
  },
  {
   "cell_type": "code",
   "execution_count": 4,
   "metadata": {},
   "outputs": [],
   "source": [
    "@set_func\n",
    "def test1():\n",
    "    print(\"test1\")"
   ]
  },
  {
   "cell_type": "code",
   "execution_count": 5,
   "metadata": {},
   "outputs": [
    {
     "name": "stdout",
     "output_type": "stream",
     "text": [
      "这是权限验证\n",
      "test1\n"
     ]
    }
   ],
   "source": [
    "test1()"
   ]
  },
  {
   "cell_type": "code",
   "execution_count": 8,
   "metadata": {},
   "outputs": [],
   "source": [
    "def set_func(func):\n",
    "    def call_func(a):\n",
    "        print(\"hello\")\n",
    "        func(a)\n",
    "    return call_func\n",
    "@set_func\n",
    "def test2(num):\n",
    "    print(num)"
   ]
  },
  {
   "cell_type": "code",
   "execution_count": 9,
   "metadata": {},
   "outputs": [
    {
     "name": "stdout",
     "output_type": "stream",
     "text": [
      "hello\n",
      "2\n"
     ]
    }
   ],
   "source": [
    "test2(2)"
   ]
  },
  {
   "cell_type": "code",
   "execution_count": 12,
   "metadata": {},
   "outputs": [],
   "source": [
    "def set_func(func):\n",
    "    def call_func(num,*args,**kwargs):\n",
    "        print(\"hello\")\n",
    "        func(num,*args,**kwargs)\n",
    "    return call_func\n",
    "@set_func\n",
    "def test3(num,*args,**kwargs):\n",
    "    print(num)\n",
    "    print(args)\n",
    "    print(kwargs)"
   ]
  },
  {
   "cell_type": "code",
   "execution_count": 14,
   "metadata": {},
   "outputs": [
    {
     "name": "stdout",
     "output_type": "stream",
     "text": [
      "hello\n",
      "100\n",
      "(200, 300, 400)\n",
      "{'mm': 100}\n"
     ]
    }
   ],
   "source": [
    "test3(100,200,300,400,mm=100)"
   ]
  },
  {
   "cell_type": "code",
   "execution_count": 15,
   "metadata": {},
   "outputs": [],
   "source": [
    "def set_func(func):\n",
    "    def call_func(num,*args,**kwargs):\n",
    "        print(\"hello\")\n",
    "        return func(num,*args,**kwargs)\n",
    "    return call_func\n",
    "@set_func\n",
    "def test4(num,*args,**kwargs):\n",
    "    print(num)\n",
    "    print(args)\n",
    "    print(kwargs)\n",
    "    return \"ok\""
   ]
  },
  {
   "cell_type": "code",
   "execution_count": 16,
   "metadata": {},
   "outputs": [
    {
     "name": "stdout",
     "output_type": "stream",
     "text": [
      "hello\n",
      "100\n",
      "()\n",
      "{}\n",
      "ok\n"
     ]
    }
   ],
   "source": [
    "ret=test4(100)\n",
    "print(ret)"
   ]
  },
  {
   "cell_type": "code",
   "execution_count": 18,
   "metadata": {},
   "outputs": [
    {
     "name": "stdout",
     "output_type": "stream",
     "text": [
      "开始进行装饰权限2的功能\n",
      "开始进行装饰权限1的功能\n"
     ]
    }
   ],
   "source": [
    "#多个装饰器对同i一个函数进行装饰\n",
    "#谁在上面 谁先被调\n",
    "\n",
    "def set_func1(func1):\n",
    "    print(\"开始进行装饰权限1的功能\")\n",
    "    def call_func1(*args,**kwargs):\n",
    "        print(\"验证1\")\n",
    "        return func1(*args,**kwargs)\n",
    "    return call_func1\n",
    "\n",
    "def set_func2(func2):\n",
    "    print(\"开始进行装饰权限2的功能\")\n",
    "    def call_func2(*args,**kwargs):\n",
    "        print(\"验证2\")\n",
    "        return func2(*args,**kwargs)\n",
    "    return call_func2\n",
    "\n",
    "@set_func1\n",
    "@set_func2\n",
    "def test5(num,*args,**kwargs):\n",
    "    print(num)\n",
    "    print(args)\n",
    "    print(kwargs)\n",
    "    return \"ok\""
   ]
  },
  {
   "cell_type": "code",
   "execution_count": 19,
   "metadata": {},
   "outputs": [
    {
     "name": "stdout",
     "output_type": "stream",
     "text": [
      "验证1\n",
      "验证2\n",
      "10\n",
      "()\n",
      "{}\n"
     ]
    },
    {
     "data": {
      "text/plain": [
       "'ok'"
      ]
     },
     "execution_count": 19,
     "metadata": {},
     "output_type": "execute_result"
    }
   ],
   "source": [
    "test5(10)"
   ]
  },
  {
   "cell_type": "code",
   "execution_count": 20,
   "metadata": {},
   "outputs": [],
   "source": [
    "def set_call(func):\n",
    "    def call_func():\n",
    "        return \"<h1>\"+func()+\"</h1>\"\n",
    "    return call_func\n",
    "@set_call\n",
    "def get_str():\n",
    "    return \"haha\""
   ]
  },
  {
   "cell_type": "code",
   "execution_count": 21,
   "metadata": {},
   "outputs": [
    {
     "data": {
      "text/plain": [
       "'<h1>haha</h1>'"
      ]
     },
     "execution_count": 21,
     "metadata": {},
     "output_type": "execute_result"
    }
   ],
   "source": [
    "get_str()"
   ]
  },
  {
   "cell_type": "code",
   "execution_count": 22,
   "metadata": {},
   "outputs": [
    {
     "name": "stdout",
     "output_type": "stream",
     "text": [
      "这里是添加装饰器\n",
      "haha\n"
     ]
    }
   ],
   "source": [
    "class Test(object):\n",
    "    def __init__(self,func):\n",
    "        self.func=func\n",
    "    def __call__(self):\n",
    "        print(\"这里是添加装饰器\")\n",
    "        return self.func()\n",
    "\n",
    "@Test\n",
    "def get_str():\n",
    "    return \"haha\"\n",
    "print(get_str())"
   ]
  },
  {
   "cell_type": "code",
   "execution_count": 3,
   "metadata": {},
   "outputs": [],
   "source": [
    "def set_level(level):\n",
    "    def set_func(func):\n",
    "        def call_func(*args,**kwargs):\n",
    "            if(level==1):\n",
    "                print(\"权限验证1\")\n",
    "            elif level==2:\n",
    "                print(\"权限验证2\")\n",
    "            return func()\n",
    "        return call_func\n",
    "    return set_func\n",
    "\n",
    "@set_level(1)\n",
    "def test1():\n",
    "    print(\"----test1----\")\n",
    "    return \"ok\"\n",
    "\n",
    "@set_level(2)\n",
    "def test2():\n",
    "    print(\"----test2----\")\n",
    "    return \"ok\""
   ]
  },
  {
   "cell_type": "code",
   "execution_count": 4,
   "metadata": {},
   "outputs": [
    {
     "name": "stdout",
     "output_type": "stream",
     "text": [
      "权限验证1\n",
      "----test1----\n",
      "权限验证2\n",
      "----test2----\n"
     ]
    },
    {
     "data": {
      "text/plain": [
       "'ok'"
      ]
     },
     "execution_count": 4,
     "metadata": {},
     "output_type": "execute_result"
    }
   ],
   "source": [
    "test1()\n",
    "test2()"
   ]
  },
  {
   "cell_type": "code",
   "execution_count": null,
   "metadata": {},
   "outputs": [],
   "source": []
  }
 ],
 "metadata": {
  "kernelspec": {
   "display_name": "Python 3",
   "language": "python",
   "name": "python3"
  },
  "language_info": {
   "codemirror_mode": {
    "name": "ipython",
    "version": 3
   },
   "file_extension": ".py",
   "mimetype": "text/x-python",
   "name": "python",
   "nbconvert_exporter": "python",
   "pygments_lexer": "ipython3",
   "version": "3.7.3"
  }
 },
 "nbformat": 4,
 "nbformat_minor": 2
}
