{
 "cells": [
  {
   "cell_type": "code",
   "execution_count": 2,
   "metadata": {},
   "outputs": [
    {
     "name": "stdout",
     "output_type": "stream",
     "text": [
      "False\n",
      "True\n",
      "bip\n"
     ]
    }
   ],
   "source": [
    "def upper_attr(class_name,class_parents,class_attr):\n",
    "    new_attr={}\n",
    "    for name,value in class_attr.items():\n",
    "        if not name.startswith(\"__\"):\n",
    "            new_attr[name.upper()]=value\n",
    "            \n",
    "    return type(class_name,class_parents,new_attr)\n",
    "\n",
    "class Foo(object,metaclass=upper_attr):\n",
    "    bar='bip'\n",
    "    \n",
    "print(hasattr(Foo,'bar'))\n",
    "print(hasattr(Foo,'BAR'))\n",
    "\n",
    "f=Foo()\n",
    "print(f.BAR)"
   ]
  },
  {
   "cell_type": "code",
   "execution_count": 4,
   "metadata": {},
   "outputs": [
    {
     "name": "stdout",
     "output_type": "stream",
     "text": [
      "False\n",
      "True\n",
      "bip\n"
     ]
    }
   ],
   "source": [
    "class UpperAttrMetaClass(type):\n",
    "    def __new__(cls,class_name,class_parents,class_attr):\n",
    "        new_attr={}\n",
    "        for name,value in class_attr.items():\n",
    "            if not name.startswith(\"__\"):\n",
    "                new_attr[name.upper()]=value\n",
    "            \n",
    "        return type(class_name,class_parents,new_attr)\n",
    "\n",
    "class Foo(object,metaclass=UpperAttrMetaClass):\n",
    "    bar='bip'\n",
    "    \n",
    "print(hasattr(Foo,'bar'))\n",
    "print(hasattr(Foo,'BAR'))\n",
    "\n",
    "f=Foo()\n",
    "print(f.BAR)"
   ]
  },
  {
   "cell_type": "code",
   "execution_count": null,
   "metadata": {},
   "outputs": [],
   "source": [
    "#ORM 对象关系映射\n",
    "\n"
   ]
  }
 ],
 "metadata": {
  "kernelspec": {
   "display_name": "Python 3",
   "language": "python",
   "name": "python3"
  },
  "language_info": {
   "codemirror_mode": {
    "name": "ipython",
    "version": 3
   },
   "file_extension": ".py",
   "mimetype": "text/x-python",
   "name": "python",
   "nbconvert_exporter": "python",
   "pygments_lexer": "ipython3",
   "version": "3.7.3"
  }
 },
 "nbformat": 4,
 "nbformat_minor": 2
}
