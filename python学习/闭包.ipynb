{
 "cells": [
  {
   "cell_type": "code",
   "execution_count": 1,
   "metadata": {},
   "outputs": [],
   "source": [
    " def line(k,b):\n",
    "        def create_y(x):\n",
    "            print(k*x+b)\n",
    "        return create_y"
   ]
  },
  {
   "cell_type": "code",
   "execution_count": 3,
   "metadata": {},
   "outputs": [
    {
     "name": "stdout",
     "output_type": "stream",
     "text": [
      "2\n",
      "3\n",
      "4\n",
      "22\n",
      "33\n",
      "44\n"
     ]
    }
   ],
   "source": [
    "l1=line(1,2)\n",
    "l1(0)\n",
    "l1(1)\n",
    "l1(2)\n",
    "l2=line(11,22)\n",
    "l2(0)\n",
    "l2(1)\n",
    "l2(2)"
   ]
  },
  {
   "cell_type": "code",
   "execution_count": 4,
   "metadata": {},
   "outputs": [],
   "source": [
    "#匿名函数能够完成基本的简单功能，传递是这个函数的引用，只有功能 \n",
    "#函数\n",
    "#闭包\n",
    "x=300\n",
    "def test1():\n",
    "    x=200\n",
    "    def test2():\n",
    "        nonlocal x\n",
    "        print(x)\n",
    "        x=100\n",
    "        print(x)\n",
    "    return test2"
   ]
  },
  {
   "cell_type": "code",
   "execution_count": null,
   "metadata": {},
   "outputs": [],
   "source": []
  }
 ],
 "metadata": {
  "kernelspec": {
   "display_name": "Python 3",
   "language": "python",
   "name": "python3"
  },
  "language_info": {
   "codemirror_mode": {
    "name": "ipython",
    "version": 3
   },
   "file_extension": ".py",
   "mimetype": "text/x-python",
   "name": "python",
   "nbconvert_exporter": "python",
   "pygments_lexer": "ipython3",
   "version": "3.7.3"
  }
 },
 "nbformat": 4,
 "nbformat_minor": 2
}
