{
 "cells": [
  {
   "cell_type": "code",
   "execution_count": 10,
   "metadata": {},
   "outputs": [],
   "source": [
    "#1.如果需要使用gevent的协程操作，需要将程序中所有的延时或者等待换成gevnt中的类\n",
    "#2.另外一个替代的方法是gevent中的monkey.patchall()方式\n",
    "import gevent\n",
    "from gevent import monkey\n",
    "monkey.patch_all()"
   ]
  },
  {
   "cell_type": "code",
   "execution_count": 5,
   "metadata": {},
   "outputs": [],
   "source": [
    "def f1(n):\n",
    "    for i in range(n):\n",
    "        print(gevent.getcurrent(),i)\n",
    "        gevent.sleep(0.5)"
   ]
  },
  {
   "cell_type": "code",
   "execution_count": 6,
   "metadata": {},
   "outputs": [],
   "source": [
    "def f2(n):\n",
    "    for i in range(n):\n",
    "        print(gevent.getcurrent(),i)\n",
    "        gevent.sleep(0.5)"
   ]
  },
  {
   "cell_type": "code",
   "execution_count": 7,
   "metadata": {},
   "outputs": [],
   "source": [
    "def f3(n):\n",
    "    for i in range(n):\n",
    "        print(gevent.getcurrent(),i)\n",
    "        gevent.sleep(0.5)"
   ]
  },
  {
   "cell_type": "code",
   "execution_count": 8,
   "metadata": {},
   "outputs": [],
   "source": [
    "g1=gevent.spawn(f1,5)\n",
    "g2=gevent.spawn(f2,5)\n",
    "g3=gevent.spawn(f3,5)"
   ]
  },
  {
   "cell_type": "code",
   "execution_count": 9,
   "metadata": {},
   "outputs": [
    {
     "name": "stdout",
     "output_type": "stream",
     "text": [
      "<Greenlet at 0x28d456eaae8: f1(5)> 0\n",
      "<Greenlet at 0x28d456eabf8: f2(5)> 0\n",
      "<Greenlet at 0x28d456ead08: f3(5)> 0\n",
      "<Greenlet at 0x28d456eaae8: f1(5)> 1\n",
      "<Greenlet at 0x28d456eabf8: f2(5)> 1\n",
      "<Greenlet at 0x28d456ead08: f3(5)> 1\n",
      "<Greenlet at 0x28d456eaae8: f1(5)> 2\n",
      "<Greenlet at 0x28d456eabf8: f2(5)> 2\n",
      "<Greenlet at 0x28d456ead08: f3(5)> 2\n",
      "<Greenlet at 0x28d456eaae8: f1(5)> 3\n",
      "<Greenlet at 0x28d456eabf8: f2(5)> 3\n",
      "<Greenlet at 0x28d456ead08: f3(5)> 3\n",
      "<Greenlet at 0x28d456eaae8: f1(5)> 4\n",
      "<Greenlet at 0x28d456eabf8: f2(5)> 4\n",
      "<Greenlet at 0x28d456ead08: f3(5)> 4\n"
     ]
    }
   ],
   "source": [
    "g1.join()\n",
    "g2.join()\n",
    "g3.join()\n",
    "\n",
    "gevent.joinall([\n",
    "    gevent.spawn(f1,5),\n",
    "    gevent.spawn(f2,5),\n",
    "    gevent.spawn(f3,5)\n",
    "])"
   ]
  },
  {
   "cell_type": "code",
   "execution_count": null,
   "metadata": {},
   "outputs": [],
   "source": []
  }
 ],
 "metadata": {
  "kernelspec": {
   "display_name": "Python 3",
   "language": "python",
   "name": "python3"
  },
  "language_info": {
   "codemirror_mode": {
    "name": "ipython",
    "version": 3
   },
   "file_extension": ".py",
   "mimetype": "text/x-python",
   "name": "python",
   "nbconvert_exporter": "python",
   "pygments_lexer": "ipython3",
   "version": "3.7.3"
  }
 },
 "nbformat": 4,
 "nbformat_minor": 2
}
