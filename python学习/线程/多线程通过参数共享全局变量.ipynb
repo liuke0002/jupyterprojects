{
 "cells": [
  {
   "cell_type": "code",
   "execution_count": 10,
   "metadata": {},
   "outputs": [],
   "source": [
    "import threading\n",
    "import time"
   ]
  },
  {
   "cell_type": "code",
   "execution_count": 11,
   "metadata": {},
   "outputs": [],
   "source": [
    "g_nums=[11,22]"
   ]
  },
  {
   "cell_type": "code",
   "execution_count": 12,
   "metadata": {},
   "outputs": [],
   "source": [
    "def test1(temp):\n",
    "    temp.append(33)\n",
    "    print(\"***in test1 g_nums=%s\" % str(temp))"
   ]
  },
  {
   "cell_type": "code",
   "execution_count": 13,
   "metadata": {},
   "outputs": [],
   "source": [
    "def test2(temp):\n",
    "    print(\"***in test2 g_num=%s\" % str(g_nums))"
   ]
  },
  {
   "cell_type": "code",
   "execution_count": 18,
   "metadata": {},
   "outputs": [],
   "source": [
    "def main():\n",
    "    #target指定 这个线程去哪个函数执行代码\n",
    "    #args指定调用函数的时候 传递什么数据过去\n",
    "    t1=threading.Thread(target=test1,args=(g_nums,))\n",
    "    t2=threading.Thread(target=test2,args=(g_nums,))\n",
    "    t1.start()\n",
    "    time.sleep(1)\n",
    "    t2.start()\n",
    "    time.sleep(1)\n",
    "    print(\"***in main thread g_num=%s\" % str(g_nums))"
   ]
  },
  {
   "cell_type": "code",
   "execution_count": 19,
   "metadata": {},
   "outputs": [
    {
     "name": "stdout",
     "output_type": "stream",
     "text": [
      "***in test1 g_nums=[11, 22, 33, 33, 33]\n",
      "***in test2 g_num=[11, 22, 33, 33, 33]\n",
      "***in main thread g_num=[11, 22, 33, 33, 33]\n"
     ]
    }
   ],
   "source": [
    "if __name__=='__main__':\n",
    "    main()"
   ]
  },
  {
   "cell_type": "code",
   "execution_count": null,
   "metadata": {},
   "outputs": [],
   "source": []
  }
 ],
 "metadata": {
  "kernelspec": {
   "display_name": "Python 3",
   "language": "python",
   "name": "python3"
  },
  "language_info": {
   "codemirror_mode": {
    "name": "ipython",
    "version": 3
   },
   "file_extension": ".py",
   "mimetype": "text/x-python",
   "name": "python",
   "nbconvert_exporter": "python",
   "pygments_lexer": "ipython3",
   "version": "3.7.3"
  }
 },
 "nbformat": 4,
 "nbformat_minor": 2
}
