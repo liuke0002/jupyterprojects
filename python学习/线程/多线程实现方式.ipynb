{
 "cells": [
  {
   "cell_type": "code",
   "execution_count": 16,
   "metadata": {},
   "outputs": [],
   "source": [
    "import time\n",
    "import threading"
   ]
  },
  {
   "cell_type": "code",
   "execution_count": 7,
   "metadata": {},
   "outputs": [],
   "source": [
    "def dance():\n",
    "    for i in range(5):\n",
    "        print(\"正在跳舞\")\n",
    "        time.sleep(1)"
   ]
  },
  {
   "cell_type": "code",
   "execution_count": 8,
   "metadata": {},
   "outputs": [],
   "source": [
    "def sing():\n",
    "    for i in range(5):\n",
    "        print(\"正在唱歌\")\n",
    "        time.sleep(1)"
   ]
  },
  {
   "cell_type": "code",
   "execution_count": null,
   "metadata": {},
   "outputs": [],
   "source": [
    "class MyThread(threading.Thread):\n",
    "    def run(self):\n",
    "        for i in range(3):\n",
    "            time.sleep(1)\n",
    "            msg=\"T'm \"+self.name+'@'+str(i)\n",
    "            print(msg)"
   ]
  },
  {
   "cell_type": "code",
   "execution_count": 20,
   "metadata": {},
   "outputs": [],
   "source": [
    "def main():\n",
    "    t1=threading.Thread(target=sing)\n",
    "    t2=threading.Thread(target=dance)\n",
    "    t1.start()\n",
    "    t2.start()\n",
    "    while True:\n",
    "        #打印程序中线程数目\n",
    "        print(threading.enumerate())\n",
    "        #当线程数小于等于1，即当前存活线程只有主线程\n",
    "        if(len(threading.enumerate())<=1): \n",
    "            break\n",
    "        time.sleep(1)"
   ]
  },
  {
   "cell_type": "code",
   "execution_count": 21,
   "metadata": {},
   "outputs": [
    {
     "name": "stdout",
     "output_type": "stream",
     "text": [
      "正在唱歌\n",
      "正在跳舞[<_MainThread(MainThread, started 9048)>, <Thread(Thread-4, started daemon 1604)>, <Heartbeat(Thread-5, started daemon 10448)>, <HistorySavingThread(IPythonHistorySavingThread, started 10116)>, <ParentPollerWindows(Thread-3, started daemon 1472)>, <Thread(Thread-14, started 12668)>, <Thread(Thread-15, started 12140)>]\n",
      "\n",
      "正在唱歌\n",
      "正在跳舞[<_MainThread(MainThread, started 9048)>, <Thread(Thread-4, started daemon 1604)>, <Heartbeat(Thread-5, started daemon 10448)>, <HistorySavingThread(IPythonHistorySavingThread, started 10116)>, <ParentPollerWindows(Thread-3, started daemon 1472)>, <Thread(Thread-14, started 12668)>, <Thread(Thread-15, started 12140)>]\n",
      "\n",
      "正在唱歌\n",
      "正在跳舞[<_MainThread(MainThread, started 9048)>, <Thread(Thread-4, started daemon 1604)>, <Heartbeat(Thread-5, started daemon 10448)>, <HistorySavingThread(IPythonHistorySavingThread, started 10116)>, <ParentPollerWindows(Thread-3, started daemon 1472)>, <Thread(Thread-14, started 12668)>, <Thread(Thread-15, started 12140)>]\n",
      "\n",
      "正在唱歌\n",
      "[<_MainThread(MainThread, started 9048)>, <Thread(Thread-4, started daemon 1604)>, <Heartbeat(Thread-5, started daemon 10448)>, <HistorySavingThread(IPythonHistorySavingThread, started 10116)>, <ParentPollerWindows(Thread-3, started daemon 1472)>, <Thread(Thread-14, started 12668)>, <Thread(Thread-15, started 12140)>]\n",
      "正在跳舞\n",
      "正在唱歌\n",
      "[<_MainThread(MainThread, started 9048)>, <Thread(Thread-4, started daemon 1604)>, <Heartbeat(Thread-5, started daemon 10448)>, <HistorySavingThread(IPythonHistorySavingThread, started 10116)>, <ParentPollerWindows(Thread-3, started daemon 1472)>, <Thread(Thread-14, started 12668)>, <Thread(Thread-15, started 12140)>]\n",
      "正在跳舞\n",
      "[<_MainThread(MainThread, started 9048)>, <Thread(Thread-4, started daemon 1604)>, <Heartbeat(Thread-5, started daemon 10448)>, <HistorySavingThread(IPythonHistorySavingThread, started 10116)>, <ParentPollerWindows(Thread-3, started daemon 1472)>, <Thread(Thread-15, started 12140)>]\n",
      "[<_MainThread(MainThread, started 9048)>, <Thread(Thread-4, started daemon 1604)>, <Heartbeat(Thread-5, started daemon 10448)>, <HistorySavingThread(IPythonHistorySavingThread, started 10116)>, <ParentPollerWindows(Thread-3, started daemon 1472)>]\n",
      "[<_MainThread(MainThread, started 9048)>, <Thread(Thread-4, started daemon 1604)>, <Heartbeat(Thread-5, started daemon 10448)>, <HistorySavingThread(IPythonHistorySavingThread, started 10116)>, <ParentPollerWindows(Thread-3, started daemon 1472)>]\n",
      "[<_MainThread(MainThread, started 9048)>, <Thread(Thread-4, started daemon 1604)>, <Heartbeat(Thread-5, started daemon 10448)>, <HistorySavingThread(IPythonHistorySavingThread, started 10116)>, <ParentPollerWindows(Thread-3, started daemon 1472)>]\n",
      "[<_MainThread(MainThread, started 9048)>, <Thread(Thread-4, started daemon 1604)>, <Heartbeat(Thread-5, started daemon 10448)>, <HistorySavingThread(IPythonHistorySavingThread, started 10116)>, <ParentPollerWindows(Thread-3, started daemon 1472)>]\n",
      "[<_MainThread(MainThread, started 9048)>, <Thread(Thread-4, started daemon 1604)>, <Heartbeat(Thread-5, started daemon 10448)>, <HistorySavingThread(IPythonHistorySavingThread, started 10116)>, <ParentPollerWindows(Thread-3, started daemon 1472)>]\n",
      "[<_MainThread(MainThread, started 9048)>, <Thread(Thread-4, started daemon 1604)>, <Heartbeat(Thread-5, started daemon 10448)>, <HistorySavingThread(IPythonHistorySavingThread, started 10116)>, <ParentPollerWindows(Thread-3, started daemon 1472)>]\n",
      "[<_MainThread(MainThread, started 9048)>, <Thread(Thread-4, started daemon 1604)>, <Heartbeat(Thread-5, started daemon 10448)>, <HistorySavingThread(IPythonHistorySavingThread, started 10116)>, <ParentPollerWindows(Thread-3, started daemon 1472)>]\n",
      "[<_MainThread(MainThread, started 9048)>, <Thread(Thread-4, started daemon 1604)>, <Heartbeat(Thread-5, started daemon 10448)>, <HistorySavingThread(IPythonHistorySavingThread, started 10116)>, <ParentPollerWindows(Thread-3, started daemon 1472)>]\n",
      "[<_MainThread(MainThread, started 9048)>, <Thread(Thread-4, started daemon 1604)>, <Heartbeat(Thread-5, started daemon 10448)>, <HistorySavingThread(IPythonHistorySavingThread, started 10116)>, <ParentPollerWindows(Thread-3, started daemon 1472)>]\n",
      "[<_MainThread(MainThread, started 9048)>, <Thread(Thread-4, started daemon 1604)>, <Heartbeat(Thread-5, started daemon 10448)>, <HistorySavingThread(IPythonHistorySavingThread, started 10116)>, <ParentPollerWindows(Thread-3, started daemon 1472)>]\n",
      "[<_MainThread(MainThread, started 9048)>, <Thread(Thread-4, started daemon 1604)>, <Heartbeat(Thread-5, started daemon 10448)>, <HistorySavingThread(IPythonHistorySavingThread, started 10116)>, <ParentPollerWindows(Thread-3, started daemon 1472)>]\n",
      "[<_MainThread(MainThread, started 9048)>, <Thread(Thread-4, started daemon 1604)>, <Heartbeat(Thread-5, started daemon 10448)>, <HistorySavingThread(IPythonHistorySavingThread, started 10116)>, <ParentPollerWindows(Thread-3, started daemon 1472)>]\n",
      "[<_MainThread(MainThread, started 9048)>, <Thread(Thread-4, started daemon 1604)>, <Heartbeat(Thread-5, started daemon 10448)>, <HistorySavingThread(IPythonHistorySavingThread, started 10116)>, <ParentPollerWindows(Thread-3, started daemon 1472)>]\n",
      "[<_MainThread(MainThread, started 9048)>, <Thread(Thread-4, started daemon 1604)>, <Heartbeat(Thread-5, started daemon 10448)>, <HistorySavingThread(IPythonHistorySavingThread, started 10116)>, <ParentPollerWindows(Thread-3, started daemon 1472)>]\n",
      "[<_MainThread(MainThread, started 9048)>, <Thread(Thread-4, started daemon 1604)>, <Heartbeat(Thread-5, started daemon 10448)>, <HistorySavingThread(IPythonHistorySavingThread, started 10116)>, <ParentPollerWindows(Thread-3, started daemon 1472)>]\n",
      "[<_MainThread(MainThread, started 9048)>, <Thread(Thread-4, started daemon 1604)>, <Heartbeat(Thread-5, started daemon 10448)>, <HistorySavingThread(IPythonHistorySavingThread, started 10116)>, <ParentPollerWindows(Thread-3, started daemon 1472)>]\n",
      "[<_MainThread(MainThread, started 9048)>, <Thread(Thread-4, started daemon 1604)>, <Heartbeat(Thread-5, started daemon 10448)>, <HistorySavingThread(IPythonHistorySavingThread, started 10116)>, <ParentPollerWindows(Thread-3, started daemon 1472)>]\n"
     ]
    },
    {
     "ename": "KeyboardInterrupt",
     "evalue": "",
     "output_type": "error",
     "traceback": [
      "\u001b[1;31m---------------------------------------------------------------------------\u001b[0m",
      "\u001b[1;31mKeyboardInterrupt\u001b[0m                         Traceback (most recent call last)",
      "\u001b[1;32m<ipython-input-21-4be4dd58a851>\u001b[0m in \u001b[0;36m<module>\u001b[1;34m\u001b[0m\n\u001b[0;32m      1\u001b[0m \u001b[1;32mif\u001b[0m \u001b[0m__name__\u001b[0m\u001b[1;33m==\u001b[0m\u001b[1;34m'__main__'\u001b[0m\u001b[1;33m:\u001b[0m\u001b[1;33m\u001b[0m\u001b[1;33m\u001b[0m\u001b[0m\n\u001b[1;32m----> 2\u001b[1;33m     \u001b[0mmain\u001b[0m\u001b[1;33m(\u001b[0m\u001b[1;33m)\u001b[0m\u001b[1;33m\u001b[0m\u001b[1;33m\u001b[0m\u001b[0m\n\u001b[0m",
      "\u001b[1;32m<ipython-input-20-8e933d31d342>\u001b[0m in \u001b[0;36mmain\u001b[1;34m()\u001b[0m\n\u001b[0;32m      8\u001b[0m         \u001b[1;32mif\u001b[0m\u001b[1;33m(\u001b[0m\u001b[0mlen\u001b[0m\u001b[1;33m(\u001b[0m\u001b[0mthreading\u001b[0m\u001b[1;33m.\u001b[0m\u001b[0menumerate\u001b[0m\u001b[1;33m(\u001b[0m\u001b[1;33m)\u001b[0m\u001b[1;33m)\u001b[0m\u001b[1;33m<=\u001b[0m\u001b[1;36m1\u001b[0m\u001b[1;33m)\u001b[0m\u001b[1;33m:\u001b[0m\u001b[1;33m\u001b[0m\u001b[1;33m\u001b[0m\u001b[0m\n\u001b[0;32m      9\u001b[0m             \u001b[1;32mbreak\u001b[0m\u001b[1;33m\u001b[0m\u001b[1;33m\u001b[0m\u001b[0m\n\u001b[1;32m---> 10\u001b[1;33m         \u001b[0mtime\u001b[0m\u001b[1;33m.\u001b[0m\u001b[0msleep\u001b[0m\u001b[1;33m(\u001b[0m\u001b[1;36m1\u001b[0m\u001b[1;33m)\u001b[0m\u001b[1;33m\u001b[0m\u001b[1;33m\u001b[0m\u001b[0m\n\u001b[0m",
      "\u001b[1;31mKeyboardInterrupt\u001b[0m: "
     ]
    }
   ],
   "source": [
    "if __name__=='__main__':\n",
    "    main()\n",
    "    t=MyThread()\n",
    "    t.start()"
   ]
  },
  {
   "cell_type": "code",
   "execution_count": null,
   "metadata": {},
   "outputs": [],
   "source": []
  }
 ],
 "metadata": {
  "kernelspec": {
   "display_name": "Python 3",
   "language": "python",
   "name": "python3"
  },
  "language_info": {
   "codemirror_mode": {
    "name": "ipython",
    "version": 3
   },
   "file_extension": ".py",
   "mimetype": "text/x-python",
   "name": "python",
   "nbconvert_exporter": "python",
   "pygments_lexer": "ipython3",
   "version": "3.7.3"
  }
 },
 "nbformat": 4,
 "nbformat_minor": 2
}
