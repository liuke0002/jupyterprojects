{
 "cells": [
  {
   "cell_type": "code",
   "execution_count": 13,
   "metadata": {},
   "outputs": [],
   "source": [
    "import threading\n",
    "import time"
   ]
  },
  {
   "cell_type": "code",
   "execution_count": 14,
   "metadata": {},
   "outputs": [],
   "source": [
    "g_num=0\n",
    "mutex=threading.Lock()"
   ]
  },
  {
   "cell_type": "code",
   "execution_count": 15,
   "metadata": {},
   "outputs": [],
   "source": [
    "def test1(num):\n",
    "    global g_num\n",
    "    #上锁，如果之前没有被上锁，那么此时上锁成功\n",
    "    #如果上锁之前 已经被上锁了，那么此时会堵塞在这里，直到这个锁被解开\n",
    "    mutex.acquire()\n",
    "    for i in range(num):\n",
    "        g_num+=1\n",
    "    mutex.release()\n",
    "    print(\"in test1 g_num=%d\" % g_num)"
   ]
  },
  {
   "cell_type": "code",
   "execution_count": 16,
   "metadata": {},
   "outputs": [],
   "source": [
    "def test2(num):\n",
    "    global g_num\n",
    "    mutex.acquire()\n",
    "    for i in range(num):\n",
    "        g_num+=1\n",
    "    mutex.release()\n",
    "    print(\"in test2 g_num=%d\" % g_num)"
   ]
  },
  {
   "cell_type": "code",
   "execution_count": 17,
   "metadata": {},
   "outputs": [],
   "source": [
    "def main():\n",
    "    t1=threading.Thread(target=test1,args=(100000,))\n",
    "    t2=threading.Thread(target=test2,args=(100000,))\n",
    "    t1.start()\n",
    "    t2.start()\n",
    "    time.sleep(3)"
   ]
  },
  {
   "cell_type": "code",
   "execution_count": 18,
   "metadata": {},
   "outputs": [
    {
     "name": "stdout",
     "output_type": "stream",
     "text": [
      "in test1 g_num=100000\n",
      "in test2 g_num=200000\n"
     ]
    }
   ],
   "source": [
    "if __name__=='__main__':\n",
    "    main()"
   ]
  }
 ],
 "metadata": {
  "kernelspec": {
   "display_name": "Python 3",
   "language": "python",
   "name": "python3"
  },
  "language_info": {
   "codemirror_mode": {
    "name": "ipython",
    "version": 3
   },
   "file_extension": ".py",
   "mimetype": "text/x-python",
   "name": "python",
   "nbconvert_exporter": "python",
   "pygments_lexer": "ipython3",
   "version": "3.7.3"
  }
 },
 "nbformat": 4,
 "nbformat_minor": 2
}
