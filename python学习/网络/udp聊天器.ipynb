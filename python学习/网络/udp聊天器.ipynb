{
 "cells": [
  {
   "cell_type": "code",
   "execution_count": 5,
   "metadata": {},
   "outputs": [],
   "source": [
    "import socket"
   ]
  },
  {
   "cell_type": "code",
   "execution_count": 7,
   "metadata": {},
   "outputs": [],
   "source": [
    "def send_msg(udp_socket):\n",
    "    dest_ip=input(\"请输入对方的ip:\")\n",
    "    dest_port=int(input(\"请输入对方的端口:\"))\n",
    "    send_msg=input(\"请输入要发送的内容：\")\n",
    "    udp_socket.sendto(send_msg.encode(\"utf-8\"),(dest_ip,dest_port))\n",
    "\n",
    "def recv_msg(udp_socket):\n",
    "    recv_msg=udp_socket.recvfrom(1024)[0]\n",
    "    print(recv_msg.decode(\"utf-8\"))    \n",
    "\n",
    "def main():\n",
    "    udp_socket=socket.socket(socket.AF_INET,socket.SOCK_DGRAM)\n",
    "    udp_socket.bind((\"\",7788))\n",
    "   \n",
    "    while True:\n",
    "            send_msg(udp_socket)\n",
    "            recv_msg(udp_socket)\n",
    "\n",
    "        \n",
    "    \n",
    "    udp_socket.close()"
   ]
  },
  {
   "cell_type": "code",
   "execution_count": null,
   "metadata": {},
   "outputs": [],
   "source": [
    "if __name__=='__main__':\n",
    "    main()"
   ]
  }
 ],
 "metadata": {
  "kernelspec": {
   "display_name": "Python 3",
   "language": "python",
   "name": "python3"
  },
  "language_info": {
   "codemirror_mode": {
    "name": "ipython",
    "version": 3
   },
   "file_extension": ".py",
   "mimetype": "text/x-python",
   "name": "python",
   "nbconvert_exporter": "python",
   "pygments_lexer": "ipython3",
   "version": "3.7.3"
  }
 },
 "nbformat": 4,
 "nbformat_minor": 2
}
