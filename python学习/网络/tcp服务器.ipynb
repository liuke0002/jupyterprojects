{
 "cells": [
  {
   "cell_type": "code",
   "execution_count": 1,
   "metadata": {},
   "outputs": [],
   "source": [
    "import socket"
   ]
  },
  {
   "cell_type": "code",
   "execution_count": 3,
   "metadata": {},
   "outputs": [],
   "source": [
    "#tcp服务器\n",
    "'''\n",
    "1.socket创建一个套接字\n",
    "2.bind绑定ip和port\n",
    "3.listen使套接字变为被动连接\n",
    "4.accept等待客户端的连接\n",
    "5.recv/send接收发送数据\n",
    "'''\n",
    "def main():\n",
    "    tcp_server_socket=socket.socket(socket.AF_INET,socket.SOCK_STREAM)\n",
    "    tcp_server_socket.bind(\"\",7890)\n",
    "    tcp_server_socket.listen(128)\n",
    "    while True:\n",
    "        client_socket,client_addr=tcp_server_socket.accept()\n",
    "        while True:\n",
    "            recv_data=client_socket.recv(1024)\n",
    "            if recv_data:\n",
    "                client_socket.send('hello'.encode('utf-8'))\n",
    "            else:\n",
    "                break\n",
    "        client_socket.close()\n",
    "    tcp_server_socket.close()\n",
    "\n"
   ]
  },
  {
   "cell_type": "code",
   "execution_count": null,
   "metadata": {},
   "outputs": [],
   "source": [
    "if __name__=='__main__':\n",
    "    main()"
   ]
  }
 ],
 "metadata": {
  "kernelspec": {
   "display_name": "Python 3",
   "language": "python",
   "name": "python3"
  },
  "language_info": {
   "codemirror_mode": {
    "name": "ipython",
    "version": 3
   },
   "file_extension": ".py",
   "mimetype": "text/x-python",
   "name": "python",
   "nbconvert_exporter": "python",
   "pygments_lexer": "ipython3",
   "version": "3.7.3"
  }
 },
 "nbformat": 4,
 "nbformat_minor": 2
}
