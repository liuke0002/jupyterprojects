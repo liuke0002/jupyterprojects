{
 "cells": [
  {
   "cell_type": "code",
   "execution_count": 1,
   "metadata": {},
   "outputs": [],
   "source": [
    "import socket"
   ]
  },
  {
   "cell_type": "code",
   "execution_count": 3,
   "metadata": {},
   "outputs": [],
   "source": [
    "def main():\n",
    "    #创建一个udp socket\n",
    "    udp_socket_sender=socket.socket(socket.AF_INET,socket.SOCK_DGRAM)\n",
    "    udp_socket_receiver=socket.socket(socket.AF_INET,socket.SOCK_DGRAM)\n",
    "    local_addr=(\"\",7798)\n",
    "    udp_socket_receiver.bind(local_addr)\n",
    "    dest_addr=(\"192.168.1.103\",8080)\n",
    "    \n",
    "    #接收数据\n",
    "    while True:\n",
    "        recv_data=udp_socket_receiver.recvfrom(1024)\n",
    "        recv_msg=recv_data[0]  #存储接收的数据\n",
    "        send_addr=recv_data[1]  #接收发送方的地址\n",
    "        print(\"%s:%s\" %(str(send_addr),recv_msg.devode(\"utf-8\")))\n",
    "    \n",
    "    #发送数据\n",
    "    while True:\n",
    "        send_data=input(\"请输入要发送的数据：\")\n",
    "        if send_data=='exit':\n",
    "            break\n",
    "        udp_socket_sender.sendto(send_data.encode(\"utf-8\"),dest_addr)\n",
    "    #关闭套接字\n",
    "    udp_socket_sender.close()"
   ]
  },
  {
   "cell_type": "code",
   "execution_count": null,
   "metadata": {},
   "outputs": [],
   "source": [
    "if __name__==\"__main__\":\n",
    "    main()"
   ]
  }
 ],
 "metadata": {
  "kernelspec": {
   "display_name": "Python 3",
   "language": "python",
   "name": "python3"
  },
  "language_info": {
   "codemirror_mode": {
    "name": "ipython",
    "version": 3
   },
   "file_extension": ".py",
   "mimetype": "text/x-python",
   "name": "python",
   "nbconvert_exporter": "python",
   "pygments_lexer": "ipython3",
   "version": "3.7.3"
  }
 },
 "nbformat": 4,
 "nbformat_minor": 2
}
