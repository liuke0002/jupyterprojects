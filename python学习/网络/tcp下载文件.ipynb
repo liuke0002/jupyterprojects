{
 "cells": [
  {
   "cell_type": "code",
   "execution_count": 3,
   "metadata": {},
   "outputs": [],
   "source": [
    "import socket"
   ]
  },
  {
   "cell_type": "code",
   "execution_count": 4,
   "metadata": {},
   "outputs": [],
   "source": [
    "def client():\n",
    "    tcp_socket=socket.socket(socket.AF_INET,socket.SOCK_STREAM)\n",
    "    \n",
    "    dest_ip=input(\"请输入下载服务器的ip:\")\n",
    "    dest_port=int(input(\"请输入下载服务器的port:\"))\n",
    "    tcp_socket.connect((dest_ip,dest_port))\n",
    "    download_file_name=input(\"请输入要下载的文件名字:\")\n",
    "    tcp_socket.send(download_file_name.encode(\"utf-8\"))\n",
    "    recv_data=tcp_socket.recv(1024)\n",
    "    if recv_data:\n",
    "        with open(\"[新]\"+download_file_name,'wb') as f:\n",
    "            f.write(recv_data)\n",
    "    tcp_socket.close()\n",
    "def get_file(file_name):\n",
    "    file_content=None\n",
    "    try:\n",
    "        f=open(file_name,\"rb\")\n",
    "        file_content=f.read()\n",
    "        f.close()\n",
    "    except Exception as ret:\n",
    "        print(\"没有要下载的文件(%s)\" % file_name)\n",
    "    \n",
    "    if file_content:\n",
    "        return file_content\n",
    "def server():\n",
    "    tcp_server_socket=socket.socket(socket.AF_INET,socket.SOCK_STREAM)\n",
    "    tcp_server_socket.bind(\"\",7899)\n",
    "    tcp_server_socket.listen(128)\n",
    "    client_socket,client_addr=tcp_server_socket.accept()\n",
    "    file_name=client_socket.recv(1024).decode(\"utf-8\")\n",
    "    \n",
    "    file_content=get_file(file_name)\n",
    "    client_socket.send(file_content)\n",
    "    client_socket.close()\n",
    "    tcp_server_socket.close()\n",
    "def main():\n",
    "    "
   ]
  },
  {
   "cell_type": "code",
   "execution_count": null,
   "metadata": {},
   "outputs": [],
   "source": [
    "if __name__=='__main__':\n",
    "    main()"
   ]
  }
 ],
 "metadata": {
  "kernelspec": {
   "display_name": "Python 3",
   "language": "python",
   "name": "python3"
  },
  "language_info": {
   "codemirror_mode": {
    "name": "ipython",
    "version": 3
   },
   "file_extension": ".py",
   "mimetype": "text/x-python",
   "name": "python",
   "nbconvert_exporter": "python",
   "pygments_lexer": "ipython3",
   "version": "3.7.3"
  }
 },
 "nbformat": 4,
 "nbformat_minor": 2
}
