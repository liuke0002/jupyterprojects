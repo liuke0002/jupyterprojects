{
 "cells": [
  {
   "cell_type": "code",
   "execution_count": 2,
   "metadata": {},
   "outputs": [],
   "source": [
    "import multiprocessing\n",
    "import time"
   ]
  },
  {
   "cell_type": "code",
   "execution_count": 3,
   "metadata": {},
   "outputs": [],
   "source": [
    "def download_from_web(q):\n",
    "    data=[11,22,33,44]\n",
    "    for temp in data:\n",
    "        q.put(temp)\n",
    "    print(\"数据已经放入\")\n",
    "     "
   ]
  },
  {
   "cell_type": "code",
   "execution_count": 4,
   "metadata": {},
   "outputs": [],
   "source": [
    "def analysis_data():\n",
    "    waiting=list()\n",
    "    while True:\n",
    "        if q.empty():\n",
    "            break\n",
    "        data=q.get()\n",
    "        waiting.append(data)\n",
    "    print(waiting)"
   ]
  },
  {
   "cell_type": "code",
   "execution_count": 5,
   "metadata": {},
   "outputs": [],
   "source": [
    "def main():\n",
    "    #创建一个队列\n",
    "    q=multiprocessing.Queue()\n",
    "    #创建多个进程将队列的引用当作实参进行传递到里面\n",
    "    p1=multiprocessing.Process(target=download_from_web,args=(q,))\n",
    "    print(\"hello\")\n",
    "    p2=multiprocessing.Process(target=analysis_data,args=(q,))\n",
    "    p1.start()\n",
    "    p2.start()"
   ]
  },
  {
   "cell_type": "code",
   "execution_count": 6,
   "metadata": {},
   "outputs": [
    {
     "name": "stdout",
     "output_type": "stream",
     "text": [
      "hello\n"
     ]
    }
   ],
   "source": [
    "if __name__=='__main__':\n",
    "    main()"
   ]
  },
  {
   "cell_type": "code",
   "execution_count": null,
   "metadata": {},
   "outputs": [],
   "source": []
  }
 ],
 "metadata": {
  "kernelspec": {
   "display_name": "Python 3",
   "language": "python",
   "name": "python3"
  },
  "language_info": {
   "codemirror_mode": {
    "name": "ipython",
    "version": 3
   },
   "file_extension": ".py",
   "mimetype": "text/x-python",
   "name": "python",
   "nbconvert_exporter": "python",
   "pygments_lexer": "ipython3",
   "version": "3.7.3"
  }
 },
 "nbformat": 4,
 "nbformat_minor": 2
}
