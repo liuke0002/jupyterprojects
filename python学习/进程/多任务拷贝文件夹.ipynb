{
 "cells": [
  {
   "cell_type": "code",
   "execution_count": 1,
   "metadata": {},
   "outputs": [],
   "source": [
    "import os\n",
    "import multiprocessing"
   ]
  },
  {
   "cell_type": "code",
   "execution_count": 4,
   "metadata": {},
   "outputs": [],
   "source": [
    "def copy_file(q,file_name,old_folder_name,new_folder_name):\n",
    "    old_file=open(old_folder_name+\"/\"+file_name,\"rb\"):\n",
    "    content=old_file.read()\n",
    "    old_file.close()\n",
    "    \n",
    "    new_file=open(old_folder_name+\"/\"+file_name,\"wb\")\n",
    "    new_file.write(content)\n",
    "    new_file.close()\n",
    "    #如果拷贝完文件，那么就向队列中写入一个消息，表示已经完成\n",
    "    q.put(file_name)\n",
    "    "
   ]
  },
  {
   "cell_type": "code",
   "execution_count": 2,
   "metadata": {},
   "outputs": [],
   "source": [
    "def main():\n",
    "    #1.获取用户要copy的文件夹的名字\n",
    "    old_folder_name=input(\"请输入要copy的文件夹的名字:\")\n",
    "    #2.创建一个新的文件夹\n",
    "    try:\n",
    "        new_folder_name=old_folder_name+\"【复件】\"\n",
    "        os.mkdir(old_folder_name+\"【复件】\")\n",
    "    except:\n",
    "        pass\n",
    "    #3.获取文件夹的所有的待copy的文件名字\n",
    "    file_names=os.listdir(old_folder_name)\n",
    "    #4.创建进程池\n",
    "    po=multiprocessing.Pool(5)\n",
    "    #5.创建一个队列\n",
    "    q=multiprocessing.Manager().Queue()\n",
    "    #6.向进程池中添加copy文件任务\n",
    "    for file_name in file_names:\n",
    "        po.apply_sync(copy_file,args=(q,file_name,old_folder_name,new_folder_name))\n",
    "    #7.复制原文件中的文件，到新文件夹中的文件去\n",
    "    po.close()\n",
    "    all_file_num=len(file_names)\n",
    "    copy_ok_num=0\n",
    "    while True:\n",
    "        file_name=q.get()\n",
    "        print(\"已经完成copy:%s\" % file_name)\n",
    "        copy_ok_num+=1\n",
    "        print(\"\\r拷贝的进度为:%.2f %%\" % (100*copy_ok_num/all_file_num),end='')\n",
    "        if all_file_num<=copy_ok_num:\n",
    "            break\n",
    "    print()\n",
    "        \n",
    "#     po.join()"
   ]
  },
  {
   "cell_type": "code",
   "execution_count": null,
   "metadata": {},
   "outputs": [],
   "source": [
    "if __name__=='__main__':\n",
    "    main()"
   ]
  }
 ],
 "metadata": {
  "kernelspec": {
   "display_name": "Python 3",
   "language": "python",
   "name": "python3"
  },
  "language_info": {
   "codemirror_mode": {
    "name": "ipython",
    "version": 3
   },
   "file_extension": ".py",
   "mimetype": "text/x-python",
   "name": "python",
   "nbconvert_exporter": "python",
   "pygments_lexer": "ipython3",
   "version": "3.7.3"
  }
 },
 "nbformat": 4,
 "nbformat_minor": 2
}
