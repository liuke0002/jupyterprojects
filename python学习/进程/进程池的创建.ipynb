{
 "cells": [
  {
   "cell_type": "code",
   "execution_count": 1,
   "metadata": {},
   "outputs": [],
   "source": [
    "from multiprocessing import Pool\n",
    "import os,time,random"
   ]
  },
  {
   "cell_type": "code",
   "execution_count": 2,
   "metadata": {},
   "outputs": [],
   "source": [
    "def worker(msg):\n",
    "    t_start=time.time()\n",
    "    print(\"%s开始执行，进程号为%d\" % (msg,os.getpid()))\n",
    "    time.sleep(random.random()*2)\n",
    "    t_stop=time.time()\n",
    "    print(msg,\"执行完毕，耗时%0.2f\" %(t_stop-t_start))"
   ]
  },
  {
   "cell_type": "code",
   "execution_count": null,
   "metadata": {},
   "outputs": [
    {
     "name": "stdout",
     "output_type": "stream",
     "text": [
      "---start--\n"
     ]
    }
   ],
   "source": [
    "po=Pool(3)\n",
    "for i in range(0,10):\n",
    "    po.apply_async(worker,(i,))\n",
    "\n",
    "print(\"---start--\")\n",
    "po.close()\n",
    "po.join()\n",
    "print(\"--end--\")"
   ]
  },
  {
   "cell_type": "code",
   "execution_count": null,
   "metadata": {},
   "outputs": [],
   "source": []
  }
 ],
 "metadata": {
  "kernelspec": {
   "display_name": "Python 3",
   "language": "python",
   "name": "python3"
  },
  "language_info": {
   "codemirror_mode": {
    "name": "ipython",
    "version": 3
   },
   "file_extension": ".py",
   "mimetype": "text/x-python",
   "name": "python",
   "nbconvert_exporter": "python",
   "pygments_lexer": "ipython3",
   "version": "3.7.3"
  }
 },
 "nbformat": 4,
 "nbformat_minor": 2
}
