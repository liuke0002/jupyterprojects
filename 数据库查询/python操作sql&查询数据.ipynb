{
 "cells": [
  {
   "cell_type": "code",
   "execution_count": 1,
   "metadata": {},
   "outputs": [],
   "source": [
    "from pymysql import *"
   ]
  },
  {
   "cell_type": "code",
   "execution_count": 2,
   "metadata": {},
   "outputs": [],
   "source": [
    "def main():\n",
    "    #创建Connection连接\n",
    "    conn=connect(host='localhost',port=3306,user='root',password='',database='jing_dong')\n",
    "    #获得Cursor对象\n",
    "    cs1=conn.cursor()\n",
    "    #执行select语句，并返回受影响的行数：查询一条数据\n",
    "    count=cs1.execute('select id,name from goods where id>=4')\n",
    "    #打印受影响的行数\n",
    "    print(\"查询到%d条数据\" % count)\n",
    "    \n",
    "    for i in range(count):\n",
    "        #获取查询的结果\n",
    "        result=cs1.fetchone()\n",
    "        #打印查询的结果\n",
    "        print(result)\n",
    "        \n",
    "    cs1.close()\n",
    "    conn.close()"
   ]
  },
  {
   "cell_type": "code",
   "execution_count": null,
   "metadata": {},
   "outputs": [],
   "source": [
    "if __name__=='__main__':\n",
    "    main()"
   ]
  }
 ],
 "metadata": {
  "kernelspec": {
   "display_name": "Python 3",
   "language": "python",
   "name": "python3"
  },
  "language_info": {
   "codemirror_mode": {
    "name": "ipython",
    "version": 3
   },
   "file_extension": ".py",
   "mimetype": "text/x-python",
   "name": "python",
   "nbconvert_exporter": "python",
   "pygments_lexer": "ipython3",
   "version": "3.7.3"
  }
 },
 "nbformat": 4,
 "nbformat_minor": 2
}
