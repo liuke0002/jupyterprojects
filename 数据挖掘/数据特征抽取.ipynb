{
 "cells": [
  {
   "cell_type": "code",
   "execution_count": 3,
   "metadata": {},
   "outputs": [
    {
     "name": "stdout",
     "output_type": "stream",
     "text": [
      "['city=北京', 'city=深圳', 'temperature']\n"
     ]
    }
   ],
   "source": [
    "#实例化\n",
    "from sklearn.feature_extraction import DictVectorizer\n",
    "\n",
    "dic=DictVectorizer(sparse=False)\n",
    "\n",
    "data=dic.fit_transform([{'city':'北京','temperature':20},{'city':'深圳','temperature':20}])\n",
    "\n",
    "print(dic.get_feature_names())"
   ]
  },
  {
   "cell_type": "code",
   "execution_count": 4,
   "metadata": {},
   "outputs": [
    {
     "data": {
      "text/plain": [
       "'one-hot编码'"
      ]
     },
     "execution_count": 4,
     "metadata": {},
     "output_type": "execute_result"
    }
   ],
   "source": [
    "'''one-hot编码'''"
   ]
  },
  {
   "cell_type": "code",
   "execution_count": 5,
   "metadata": {},
   "outputs": [
    {
     "name": "stdout",
     "output_type": "stream",
     "text": [
      "['is', 'life', 'long', 'short']\n",
      "[[1 1 0 1]\n",
      " [1 1 1 0]]\n"
     ]
    }
   ],
   "source": [
    "'''对文本进行特征值化'''\n",
    "from sklearn.feature_extraction.text import CountVectorizer\n",
    "\n",
    "cv=CountVectorizer()\n",
    "\n",
    "data=cv.fit_transform(['life is short','life is long'])\n",
    "\n",
    "print(cv.get_feature_names())\n",
    "print(data.toarray())"
   ]
  },
  {
   "cell_type": "code",
   "execution_count": 20,
   "metadata": {},
   "outputs": [],
   "source": [
    "import jieba\n",
    "def cut_word():\n",
    "    c1=jieba.cut('今天很残酷,明天更残酷，后天很美好，但绝对大部分是死在明天晚上，所以每个人不要放弃今天。')\n",
    "    c2=jieba.cut('我们看到的从很远星系来的光是在几百年之前发出的，这样当我们看到宇宙时，我们是在看他的过去。')\n",
    "    c3=jieba.cut('如果只用了一种方式了解某件事物，你就不会真正了解它。了解事物真正含义的秘密取决于如何将其与我们所了解的事物相联系')\n",
    "    \n",
    "    con1=list(c1)\n",
    "    con2=list(c2)\n",
    "    con3=list(c3)\n",
    "    \n",
    "    \n",
    "    a=' '.join(con1)\n",
    "    b=' '.join(con2)\n",
    "    c=' '.join(con3)\n",
    "    \n",
    "    return a,b,c"
   ]
  },
  {
   "cell_type": "code",
   "execution_count": 21,
   "metadata": {},
   "outputs": [
    {
     "name": "stdout",
     "output_type": "stream",
     "text": [
      "['一种', '不会', '不要', '之前', '了解', '事物', '今天', '光是在', '几百年', '发出', '取决于', '只用', '后天', '含义', '大部分', '如何', '如果', '宇宙', '我们', '所以', '放弃', '方式', '明天', '星系', '晚上', '某件事', '残酷', '每个', '看到', '真正', '秘密', '绝对', '美好', '联系', '过去', '这样']\n",
      "[[0 0 1 0 0 0 2 0 0 0 0 0 1 0 1 0 0 0 0 1 1 0 2 0 1 0 2 1 0 0 0 1 1 0 0 0]\n",
      " [0 0 0 1 0 0 0 1 1 1 0 0 0 0 0 0 0 1 3 0 0 0 0 1 0 0 0 0 2 0 0 0 0 0 1 1]\n",
      " [1 1 0 0 4 2 0 0 0 0 1 1 0 1 0 1 1 0 1 0 0 1 0 0 0 1 0 0 0 2 1 0 0 1 0 0]]\n"
     ]
    }
   ],
   "source": [
    "a,b,c=cut_word()\n",
    "cv=CountVectorizer()\n",
    "data=cv.fit_transform([a,b,c])\n",
    "\n",
    "print(cv.get_feature_names())\n",
    "print(data.toarray())"
   ]
  },
  {
   "cell_type": "code",
   "execution_count": 23,
   "metadata": {},
   "outputs": [
    {
     "name": "stderr",
     "output_type": "stream",
     "text": [
      "D:\\ProgramFiles\\Anaconda3\\lib\\site-packages\\sklearn\\utils\\deprecation.py:58: DeprecationWarning: Class Imputer is deprecated; Imputer was deprecated in version 0.20 and will be removed in 0.22. Import impute.SimpleImputer from sklearn instead.\n",
      "  warnings.warn(msg, category=DeprecationWarning)\n"
     ]
    },
    {
     "data": {
      "text/plain": [
       "array([[1., 2.],\n",
       "       [4., 3.],\n",
       "       [7., 6.]])"
      ]
     },
     "execution_count": 23,
     "metadata": {},
     "output_type": "execute_result"
    }
   ],
   "source": [
    "from sklearn.preprocessing import Imputer\n",
    "import numpy as np\n",
    "\n",
    "im=Imputer(missing_values='NaN',strategy='mean',axis=0)\n",
    "\n",
    "im.fit_transform([[1,2],[np.nan,3],[7,6]])"
   ]
  },
  {
   "cell_type": "code",
   "execution_count": 26,
   "metadata": {},
   "outputs": [
    {
     "data": {
      "text/plain": [
       "array([[0],\n",
       "       [4],\n",
       "       [1]])"
      ]
     },
     "execution_count": 26,
     "metadata": {},
     "output_type": "execute_result"
    }
   ],
   "source": [
    "from sklearn.feature_selection import VarianceThreshold\n",
    "\n",
    "var=VarianceThreshold(threshold=1.0)\n",
    "var.fit_transform([[0,2,0,3],[0,1,4,3],[0,1,1,3]])"
   ]
  },
  {
   "cell_type": "code",
   "execution_count": 27,
   "metadata": {},
   "outputs": [
    {
     "name": "stdout",
     "output_type": "stream",
     "text": [
      "[[ 0.          3.82970843]\n",
      " [-5.74456265 -1.91485422]\n",
      " [ 5.74456265 -1.91485422]]\n"
     ]
    }
   ],
   "source": [
    "from sklearn.decomposition import PCA\n",
    "\n",
    "pca=PCA(n_components=0.9)\n",
    "\n",
    "data=pca.fit_transform([[2,8,4,5],[6,3,0,8],[5,4,9,1]])\n",
    "\n",
    "print(data)"
   ]
  },
  {
   "cell_type": "code",
   "execution_count": null,
   "metadata": {},
   "outputs": [],
   "source": []
  }
 ],
 "metadata": {
  "kernelspec": {
   "display_name": "Python 3",
   "language": "python",
   "name": "python3"
  },
  "language_info": {
   "codemirror_mode": {
    "name": "ipython",
    "version": 3
   },
   "file_extension": ".py",
   "mimetype": "text/x-python",
   "name": "python",
   "nbconvert_exporter": "python",
   "pygments_lexer": "ipython3",
   "version": "3.7.3"
  }
 },
 "nbformat": 4,
 "nbformat_minor": 2
}
